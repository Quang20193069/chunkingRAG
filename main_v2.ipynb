{
 "cells": [
  {
   "cell_type": "code",
   "execution_count": 1,
   "id": "da78ce58",
   "metadata": {},
   "outputs": [],
   "source": [
    "import fitz  # PyMuPDF\n",
    "import os\n",
    "import json\n",
    "import uuid\n",
    "from langchain.schema import Document\n",
    "from langchain.embeddings import HuggingFaceEmbeddings\n",
    "from langchain.vectorstores import Chroma\n",
    "import pdfplumber\n"
   ]
  },
  {
   "cell_type": "code",
   "execution_count": 2,
   "id": "f3b0b933",
   "metadata": {},
   "outputs": [],
   "source": [
    "PDF_PATH = \"test_doc.pdf\"\n",
    "OUTPUT_DIR = \"pdf_chunks_v2\"\n",
    "EMBEDDING_MODEL_NAME = \"sentence-transformers/paraphrase-multilingual-MiniLM-L12-v2\"\n",
    "CHROMA_DB_DIR = \"chroma_db_v2\"\n"
   ]
  },
  {
   "cell_type": "code",
   "execution_count": 3,
   "id": "1d5a1467",
   "metadata": {},
   "outputs": [
    {
     "name": "stderr",
     "output_type": "stream",
     "text": [
      "C:\\Users\\MSII\\AppData\\Local\\Temp\\ipykernel_2332\\1329246236.py:1: LangChainDeprecationWarning: The class `HuggingFaceEmbeddings` was deprecated in LangChain 0.2.2 and will be removed in 1.0. An updated version of the class exists in the :class:`~langchain-huggingface package and should be used instead. To use it run `pip install -U :class:`~langchain-huggingface` and import as `from :class:`~langchain_huggingface import HuggingFaceEmbeddings``.\n",
      "  embedder = HuggingFaceEmbeddings(model_name=EMBEDDING_MODEL_NAME)\n",
      "d:\\Working\\Coding\\ChunkingPDF\\myEnv\\lib\\site-packages\\tqdm\\auto.py:21: TqdmWarning: IProgress not found. Please update jupyter and ipywidgets. See https://ipywidgets.readthedocs.io/en/stable/user_install.html\n",
      "  from .autonotebook import tqdm as notebook_tqdm\n",
      "C:\\Users\\MSII\\AppData\\Local\\Temp\\ipykernel_2332\\1329246236.py:4: LangChainDeprecationWarning: The class `Chroma` was deprecated in LangChain 0.2.9 and will be removed in 1.0. An updated version of the class exists in the :class:`~langchain-chroma package and should be used instead. To use it run `pip install -U :class:`~langchain-chroma` and import as `from :class:`~langchain_chroma import Chroma``.\n",
      "  vector_store = Chroma(\n"
     ]
    }
   ],
   "source": [
    "embedder = HuggingFaceEmbeddings(model_name=EMBEDDING_MODEL_NAME)\n",
    "\n",
    "\n",
    "vector_store = Chroma(\n",
    "    collection_name=\"test_vector_store\",\n",
    "    embedding_function=embedder,\n",
    "    persist_directory=CHROMA_DB_DIR,\n",
    ")"
   ]
  },
  {
   "cell_type": "code",
   "execution_count": 4,
   "id": "8107b4e7",
   "metadata": {},
   "outputs": [],
   "source": [
    "def save_image(doc, img_info, page_number):\n",
    "    xref = img_info[0]\n",
    "    base_image = doc.extract_image(xref)\n",
    "    image_bytes = base_image[\"image\"]\n",
    "    img_ext = base_image[\"ext\"]\n",
    "    img_filename = f\"page_{page_number}_img_{xref}.{img_ext}\"\n",
    "    img_path = os.path.join(OUTPUT_DIR, img_filename)\n",
    "    with open(img_path, \"wb\") as f:\n",
    "        f.write(image_bytes)\n",
    "    return img_path"
   ]
  },
  {
   "cell_type": "code",
   "execution_count": 5,
   "id": "9cb92331",
   "metadata": {},
   "outputs": [],
   "source": [
    "def extract_tables_from_page(pdf_path, page_number):\n",
    "    tables = []\n",
    "    with pdfplumber.open(pdf_path) as pdf:\n",
    "        page = pdf.pages[page_number]\n",
    "        extracted_tables = page.extract_tables()\n",
    "        for table in extracted_tables:\n",
    "            md_table = \"\"\n",
    "            for row in table:\n",
    "                md_table += \"| \" + \" | \".join(cell or \"\" for cell in row) + \" |\\n\"\n",
    "            tables.append(md_table)\n",
    "    return tables\n"
   ]
  },
  {
   "cell_type": "code",
   "execution_count": 6,
   "id": "ef471dee",
   "metadata": {},
   "outputs": [],
   "source": [
    "def create_chunks_from_PDF_Page(blocks, images, page_number):\n",
    "    all_chunks = []\n",
    "    tables = extract_tables_from_page(PDF_PATH, page_number)\n",
    "    tables_page = (\" \").join(tables)\n",
    "    current_chunk = {\"text\": \"\", \"table\": \"\", \"image_path\": None, \"image_caption\": None, \"y0\": None}\n",
    "    last_y1 = 0\n",
    "\n",
    "    for block in sorted(blocks, key=lambda b: b[1]):  # sort by y0\n",
    "        x0, y0, x1, y1, text, _ = block\n",
    "        text = text.strip()\n",
    "        if not text:\n",
    "            continue\n",
    "        if current_chunk[\"y0\"] is None:\n",
    "            current_chunk[\"y0\"] = y0\n",
    "        if y0 - last_y1 > 40 and current_chunk[\"text\"]:\n",
    "            all_chunks.append(current_chunk)\n",
    "            current_chunk = {\"text\": \"\", \"table\": \"\", \"image_path\": None, \"image_caption\": None, \"y0\": None}\n",
    "        current_chunk[\"text\"] += text + \"\\n\"\n",
    "        last_y1 = y1\n",
    "    if current_chunk[\"text\"]:\n",
    "        all_chunks.append(current_chunk)\n",
    "    if all_chunks:\n",
    "        for image_path, image_y in images:\n",
    "            closest_chunk = min(all_chunks, key=lambda c: abs(c.get(\"y0\", 0) - image_y))\n",
    "            closest_chunk[\"image_path\"] = image_path\n",
    "            closest_chunk[\"image_caption\"] = f\"Image from page {page_number}\"\n",
    "        for i in range(len(all_chunks)):\n",
    "            if i == int(len(all_chunks)/2):\n",
    "                print(f\"Halfway through page {page_number}: {all_chunks[i]}\")\n",
    "                all_chunks[i][\"table\"] = tables_page\n",
    "    return all_chunks\n",
    "\n",
    "\n",
    "\n",
    "\n"
   ]
  },
  {
   "cell_type": "code",
   "execution_count": 7,
   "id": "a3b6adce",
   "metadata": {},
   "outputs": [],
   "source": [
    "def proccess_pdf(pdf_path):\n",
    "    os.makedirs(OUTPUT_DIR, exist_ok=True)\n",
    "    doc = fitz.open(pdf_path)\n",
    "    all_chunks = []\n",
    "    for page_number in range(len(doc)):\n",
    "        page = doc[page_number]\n",
    "        blocks = page.get_text(\"blocks\")\n",
    "        block_info = [\n",
    "            (b[0], b[1], b[2], b[3], b[4], i) for i, b in enumerate(blocks)\n",
    "        ]\n",
    "        img_list = page.get_images(full=True)\n",
    "        images = []\n",
    "        for img in img_list:\n",
    "            img_path = save_image(doc, img, page_number)\n",
    "            y_pos = (page.rect.height / 2)\n",
    "            images.append((img_path, y_pos))\n",
    "        chunks = create_chunks_from_PDF_Page(block_info, images, page_number)\n",
    "        for i, chunk in enumerate(chunks):\n",
    "            chunk_id = f\"page_{page_number}_chunk_{i}_{uuid.uuid4().hex[:6]}\"\n",
    "            chunk[\"id\"] = chunk_id\n",
    "            chunk[\"page\"] = page_number\n",
    "            all_chunks.append(chunk)\n",
    "    with open(os.path.join(OUTPUT_DIR, \"chunks.json\"), \"w\", encoding=\"utf-8\") as f:\n",
    "        json.dump(all_chunks, f, indent=2, ensure_ascii=False)\n",
    "\n",
    "    return all_chunks\n",
    "\n",
    "        \n",
    "    "
   ]
  },
  {
   "cell_type": "code",
   "execution_count": 8,
   "id": "7328b7e0",
   "metadata": {},
   "outputs": [],
   "source": [
    "def embed_and_store_chunks(chunks):\n",
    "    docs = []\n",
    "    for chunk in chunks:\n",
    "        content = chunk[\"text\"]\n",
    "        metadata = {\n",
    "                \"chunk_id\": chunk[\"id\"],\n",
    "                \"page\": chunk[\"page\"],\n",
    "                \"table\": chunk.get(\"table\", \"\"),\n",
    "        }\n",
    "        # Chỉ thêm image_path nếu khác None\n",
    "        if chunk.get(\"image_path\") is not None:\n",
    "            metadata[\"image_path\"] = str(chunk[\"image_path\"])\n",
    "\n",
    "        docs.append(Document(page_content=content, metadata=metadata))\n",
    "    vector_store.add_documents(docs)\n",
    "    vector_store.persist()\n",
    "    print(\"✅ Vectorstore saved to:\", CHROMA_DB_DIR)\n"
   ]
  },
  {
   "cell_type": "code",
   "execution_count": 9,
   "id": "f3dc0750",
   "metadata": {},
   "outputs": [
    {
     "name": "stderr",
     "output_type": "stream",
     "text": [
      "CropBox missing from /Page, defaulting to MediaBox\n",
      "CropBox missing from /Page, defaulting to MediaBox\n",
      "CropBox missing from /Page, defaulting to MediaBox\n",
      "CropBox missing from /Page, defaulting to MediaBox\n",
      "CropBox missing from /Page, defaulting to MediaBox\n",
      "CropBox missing from /Page, defaulting to MediaBox\n",
      "CropBox missing from /Page, defaulting to MediaBox\n"
     ]
    },
    {
     "name": "stdout",
     "output_type": "stream",
     "text": [
      "Halfway through page 0: {'text': 'CÔNG AN TP HẢI PHÒNG \\nCÔNG AN QUẬN KIẾN AN\\nCỘNG HÕA XÃ HỘI CHỦ NGHĨA VIỆT NAM\\nĐộc lập – Tự do – Hạnh phúc\\nKiến An, ngày 24 tháng 10 năm 2022\\nTÀI LIỆU \\nHƯỚNG DẪN CÀI ĐẶT ỨNG DỤNG VNEID, ĐĂNG KÝ VÀ KÍCH HOẠT TÀI\\nKHOẢN ĐỊNH DANH ĐIỆN TỬ\\nPHẦN I: TÓM TẮT QUY TRÌNH, CÁC BƯỚC THỰC HIỆN\\nĐĂNG KÝ, KÍCH HOẠT TÀI KHOẢN MỨC ĐỘ 1 \\nTHỦ TỤC ĐĂNG KÝ, KÍCH HOẠT TÀI KHOẢN MỨC ĐỘ 2\\nChỉ áp dụng với người đã có thẻ CCCD gắn chíp điện tử\\nChỉ áp dụng với người đã có thẻ CCCD gắn chíp điện tử\\nBước 1:  Đến công an xã/phường nơi làm CCCD\\nBước 1: Tải – cài đặt ứng dụng VNeID\\nBước 2: Xuất trình CCCD gắn chíp, SĐT/email để bổ sung thông tin \\nvào tài khoản\\nBước 2: Đăng ký tài khoản trên ứng dụng VNeID\\nBước 3: Đăng ký tài khoản định danh mức độ 1\\nBước 3: Cán bộ nhập thông tin, chụp ảnh, lấy vân tay\\nBước 4: Chụp/ tải ảnh chân dung\\nBước 4: Chờ kết quả thông báo gửi đến SĐT đã đăng ký\\nBước 5: Gửi đề nghị cấp, xác thực tài khoản định danh\\nBước 5: Tải – cài đặt ứng dụng VNeiD (thực hiện khi thiết bị di động \\ncủa bạn chưa cài đạt ứng dụng)\\nBước 6: Nhận kết quả qua VNeID/SMS/email\\nBước 6: Kích hoạt tài khoản định danh điện tử mức độ 2\\nBước 7: Kích  hoạt tài khoản định danh điện tử mức độ 1\\n', 'table': '', 'image_path': None, 'image_caption': None, 'y0': 35.612674713134766}\n"
     ]
    },
    {
     "name": "stderr",
     "output_type": "stream",
     "text": [
      "CropBox missing from /Page, defaulting to MediaBox\n"
     ]
    },
    {
     "name": "stdout",
     "output_type": "stream",
     "text": [
      "Halfway through page 1: {'text': 'PHẦN III: DIỄN GIẢI CHI TIẾT BẰNG HÌNH ẢNH MỘT SỐ BƯỚC THỰC HIỆN\\nLưu ý: Các thao tác thực hiện theo các bước hướng dẫn bạn có thể  truy cập trực tiếp vào trang chủ theo địa \\nchỉ  https://vneid.gov.vn  bằng trình duyệt web có trên thiết bị di động hoặc máy tính của bạn (các trình duyệt web bạn đã cài đặt \\ncó thể là: chrome; cốc cốc; fiefox ; safari… ) và thực hiện các bước hướng dẫn trang chủ vủa VNeID. Bạn có thể sử dụng thiết bị \\ndi động thông minh đang sử dụng truy cập trực tiếp tới trang chủ của VNeID bằng cách click vào dòng chữ  https://vneid.gov.vn   \\ntại tin nhắn SMS được hệ thống VNeID gửi tới số  điện thoại bạn đang sử dụng để truy cập tới trang chủ VNeID.\\nTuy nhiên trong thực tế quá trình bạn thực hiện các thao tác trên máy tính hoặc trên thiết bị di động thông minh màn hình trên thiết bị \\ncủa bạn sẽ hiển thị các hình ảnh minh họa cụ thể sau:\\n1. Tải – Cài đặt ứng dụng VNeiD trên thiết bị di động thông minh\\nQuy trình thực hiện tại: Bước 1 đối với tài khoản định mức độ 1; Bước 5 đối với tài khoản mức độ 2\\n- Bạn có thể tải và cài đặt ứng dụng “VNEID” từ điện thoại thông minh đang sử dụng theo các hình ảnh minh họa sau:\\nTruy cập ứng dụng App Store trên điện thoại thông minh hệ \\nđiều hành IOS (iphone, Ipad,Mac) có logo như hình minh họa\\nTruy cập ứng dụng CH Play (google play) trên điện thoại thông \\nminh hệ điều hành Androi (Samsung,Oppo,Redmi,Galaxy….) \\ncó logo như hình minh họa\\n', 'table': '', 'image_path': 'pdf_chunks_v2\\\\page_1_img_100.jpeg', 'image_caption': 'Image from page 1', 'y0': 65.870361328125}\n",
      "✅ Vectorstore saved to: chroma_db_v2\n",
      "✅ Total chunks: 2\n"
     ]
    },
    {
     "name": "stderr",
     "output_type": "stream",
     "text": [
      "C:\\Users\\MSII\\AppData\\Local\\Temp\\ipykernel_2332\\2339200621.py:16: LangChainDeprecationWarning: Since Chroma 0.4.x the manual persistence method is no longer supported as docs are automatically persisted.\n",
      "  vector_store.persist()\n"
     ]
    }
   ],
   "source": [
    "chunks = proccess_pdf(PDF_PATH)\n",
    "embed_and_store_chunks(chunks)\n",
    "print(f\"✅ Total chunks: {len(chunks)}\")"
   ]
  },
  {
   "cell_type": "code",
   "execution_count": 12,
   "id": "5c12ae9a",
   "metadata": {},
   "outputs": [],
   "source": [
    "query = \"TÓM TẮT QUY TRÌNH, CÁC BƯỚC THỰC HIỆN ĐĂNG KÝ VÀ KÍCH HOẠT TÀI KHOẢN ĐỊNH DANH ĐIỆN TỬ\"\n",
    "ans = vector_store.similarity_search(query, k=1)"
   ]
  },
  {
   "cell_type": "code",
   "execution_count": 19,
   "id": "8e070ebe",
   "metadata": {},
   "outputs": [
    {
     "name": "stdout",
     "output_type": "stream",
     "text": [
      "CÔNG AN TP HẢI PHÒNG \n",
      "CÔNG AN QUẬN KIẾN AN\n",
      "CỘNG HÕA XÃ HỘI CHỦ NGHĨA VIỆT NAM\n",
      "Độc lập – Tự do – Hạnh phúc\n",
      "Kiến An, ngày 24 tháng 10 năm 2022\n",
      "TÀI LIỆU \n",
      "HƯỚNG DẪN CÀI ĐẶT ỨNG DỤNG VNEID, ĐĂNG KÝ VÀ KÍCH HOẠT TÀI\n",
      "KHOẢN ĐỊNH DANH ĐIỆN TỬ\n",
      "PHẦN I: TÓM TẮT QUY TRÌNH, CÁC BƯỚC THỰC HIỆN\n",
      "ĐĂNG KÝ, KÍCH HOẠT TÀI KHOẢN MỨC ĐỘ 1 \n",
      "THỦ TỤC ĐĂNG KÝ, KÍCH HOẠT TÀI KHOẢN MỨC ĐỘ 2\n",
      "Chỉ áp dụng với người đã có thẻ CCCD gắn chíp điện tử\n",
      "Chỉ áp dụng với người đã có thẻ CCCD gắn chíp điện tử\n",
      "Bước 1:  Đến công an xã/phường nơi làm CCCD\n",
      "Bước 1: Tải – cài đặt ứng dụng VNeID\n",
      "Bước 2: Xuất trình CCCD gắn chíp, SĐT/email để bổ sung thông tin \n",
      "vào tài khoản\n",
      "Bước 2: Đăng ký tài khoản trên ứng dụng VNeID\n",
      "Bước 3: Đăng ký tài khoản định danh mức độ 1\n",
      "Bước 3: Cán bộ nhập thông tin, chụp ảnh, lấy vân tay\n",
      "Bước 4: Chụp/ tải ảnh chân dung\n",
      "Bước 4: Chờ kết quả thông báo gửi đến SĐT đã đăng ký\n",
      "Bước 5: Gửi đề nghị cấp, xác thực tài khoản định danh\n",
      "Bước 5: Tải – cài đặt ứng dụng VNeiD (thực hiện khi thiết bị di động \n",
      "của bạn chưa cài đạt ứng dụng)\n",
      "Bước 6: Nhận kết quả qua VNeID/SMS/email\n",
      "Bước 6: Kích hoạt tài khoản định danh điện tử mức độ 2\n",
      "Bước 7: Kích  hoạt tài khoản định danh điện tử mức độ 1\n",
      "\n",
      "| TÀI LIỆU |\n",
      "| HƯỚNG DẪN CÀI ĐẶT ỨNG DỤNG VNEID, ĐĂNG KÝ VÀ KÍCH HOẠT TÀI |\n",
      "| KHOẢN ĐỊNH DANH ĐIỆN TỬ |\n",
      "|  |\n",
      "| PHẦN I: TÓM TẮT QUY TRÌNH, CÁC BƯỚC THỰC HIỆN |\n",
      " | ĐĂNG KÝ, KÍCH HOẠT TÀI KHOẢN MỨC ĐỘ 1 | THỦ TỤC ĐĂNG KÝ, KÍCH HOẠT TÀI KHOẢN MỨC ĐỘ 2 |\n",
      "| Chỉ áp dụng với người đã có thẻ CCCD gắn chíp điện tử\n",
      "Bước 1: Tải – cài đặt ứng dụng VNeID\n",
      "Bước 2: Đăng ký tài khoản trên ứng dụng VNeID\n",
      "Bước 3: Đăng ký tài khoản định danh mức độ 1\n",
      "Bước 4: Chụp/ tải ảnh chân dung\n",
      "Bước 5: Gửi đề nghị cấp, xác thực tài khoản định danh\n",
      "Bước 6: Nhận kết quả qua VNeID/SMS/email\n",
      "Bước 7: Kích hoạt tài khoản định danh điện tử mức độ 1 | Chỉ áp dụng với người đã có thẻ CCCD gắn chíp điện tử\n",
      "Bước 1: Đến công an xã/phường nơi làm CCCD\n",
      "Bước 2: Xuất trình CCCD gắn chíp, SĐT/email để bổ sung thông tin\n",
      "vào tài khoản\n",
      "Bước 3: Cán bộ nhập thông tin, chụp ảnh, lấy vân tay\n",
      "Bước 4: Chờ kết quả thông báo gửi đến SĐT đã đăng ký\n",
      "Bước 5: Tải – cài đặt ứng dụng VNeiD (thực hiện khi thiết bị di động\n",
      "của bạn chưa cài đạt ứng dụng)\n",
      "Bước 6: Kích hoạt tài khoản định danh điện tử mức độ 2 |\n",
      "\n"
     ]
    }
   ],
   "source": [
    "print(ans[0].page_content)\n",
    "print(ans[0].metadata[\"table\"])"
   ]
  },
  {
   "cell_type": "code",
   "execution_count": null,
   "id": "1c9dbdd0",
   "metadata": {},
   "outputs": [],
   "source": []
  }
 ],
 "metadata": {
  "kernelspec": {
   "display_name": "myEnv",
   "language": "python",
   "name": "python3"
  },
  "language_info": {
   "codemirror_mode": {
    "name": "ipython",
    "version": 3
   },
   "file_extension": ".py",
   "mimetype": "text/x-python",
   "name": "python",
   "nbconvert_exporter": "python",
   "pygments_lexer": "ipython3",
   "version": "3.10.0"
  }
 },
 "nbformat": 4,
 "nbformat_minor": 5
}
