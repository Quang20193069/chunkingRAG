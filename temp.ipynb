{
 "cells": [
  {
   "cell_type": "code",
   "execution_count": 37,
   "metadata": {},
   "outputs": [],
   "source": [
    "import fitz  # PyMuPDF\n",
    "import os\n",
    "import json\n",
    "import uuid\n",
    "from langchain.schema import Document\n",
    "from langchain.embeddings import HuggingFaceEmbeddings\n",
    "from langchain.vectorstores import Chroma\n",
    "import pdfplumber"
   ]
  },
  {
   "cell_type": "code",
   "execution_count": 44,
   "metadata": {},
   "outputs": [],
   "source": [
    "pdfs = pdfplumber.open(\"test_doc.pdf\")"
   ]
  },
  {
   "cell_type": "code",
   "execution_count": 47,
   "metadata": {},
   "outputs": [
    {
     "name": "stdout",
     "output_type": "stream",
     "text": [
      "2\n"
     ]
    }
   ],
   "source": [
    "print(len(pdfs.pages))"
   ]
  },
  {
   "cell_type": "code",
   "execution_count": null,
   "metadata": {},
   "outputs": [],
   "source": [
    "def extract_tables(pdf_path):\n",
    "    tables = []\n",
    "    with pdfplumber.open(pdf_path) as pdf:\n",
    "        pages_num = len(pdf.pages)\n",
    "        for page_number in range(pages_num):\n",
    "            page = pdf.pages[page_number]\n",
    "            extracted_tables = page.extract_tables()\n",
    "            for table in extracted_tables:\n",
    "                md_table = \"\"\n",
    "                for row in table:\n",
    "                    md_table += \"| \" + \" | \".join(cell or \"\" for cell in row) + \" |\\n\"\n",
    "                tables.append(md_table)\n",
    "    return tables\n"
   ]
  },
  {
   "cell_type": "code",
   "execution_count": 51,
   "metadata": {},
   "outputs": [
    {
     "name": "stderr",
     "output_type": "stream",
     "text": [
      "CropBox missing from /Page, defaulting to MediaBox\n",
      "CropBox missing from /Page, defaulting to MediaBox\n",
      "CropBox missing from /Page, defaulting to MediaBox\n",
      "CropBox missing from /Page, defaulting to MediaBox\n"
     ]
    }
   ],
   "source": [
    "tables = extract_tables(\"test_doc.pdf\")\n"
   ]
  },
  {
   "cell_type": "code",
   "execution_count": null,
   "metadata": {},
   "outputs": [
    {
     "name": "stdout",
     "output_type": "stream",
     "text": [
      "5\n",
      "| TÀI LIỆU |\n",
      "| HƯỚNG DẪN CÀI ĐẶT ỨNG DỤNG VNEID, ĐĂNG KÝ VÀ KÍCH HOẠT TÀI |\n",
      "| KHOẢN ĐỊNH DANH ĐIỆN TỬ |\n",
      "|  |\n",
      "| PHẦN I: TÓM TẮT QUY TRÌNH, CÁC BƯỚC THỰC HIỆN |\n",
      "\n",
      "\n",
      "\n",
      "\n",
      "| ĐĂNG KÝ, KÍCH HOẠT TÀI KHOẢN MỨC ĐỘ 1 | THỦ TỤC ĐĂNG KÝ, KÍCH HOẠT TÀI KHOẢN MỨC ĐỘ 2 |\n",
      "| Chỉ áp dụng với người đã có thẻ CCCD gắn chíp điện tử\n",
      "Bước 1: Tải – cài đặt ứng dụng VNeID\n",
      "Bước 2: Đăng ký tài khoản trên ứng dụng VNeID\n",
      "Bước 3: Đăng ký tài khoản định danh mức độ 1\n",
      "Bước 4: Chụp/ tải ảnh chân dung\n",
      "Bước 5: Gửi đề nghị cấp, xác thực tài khoản định danh\n",
      "Bước 6: Nhận kết quả qua VNeID/SMS/email\n",
      "Bước 7: Kích hoạt tài khoản định danh điện tử mức độ 1 | Chỉ áp dụng với người đã có thẻ CCCD gắn chíp điện tử\n",
      "Bước 1: Đến công an xã/phường nơi làm CCCD\n",
      "Bước 2: Xuất trình CCCD gắn chíp, SĐT/email để bổ sung thông tin\n",
      "vào tài khoản\n",
      "Bước 3: Cán bộ nhập thông tin, chụp ảnh, lấy vân tay\n",
      "Bước 4: Chờ kết quả thông báo gửi đến SĐT đã đăng ký\n",
      "Bước 5: Tải – cài đặt ứng dụng VNeiD (thực hiện khi thiết bị di động\n",
      "của bạn chưa cài đạt ứng dụng)\n",
      "Bước 6: Kích hoạt tài khoản định danh điện tử mức độ 2 |\n",
      "\n",
      "\n",
      "\n",
      "\n",
      "|  |  |  |  |\n",
      "| PHẦN III: DIỄN GIẢI CHI TIẾT BẰNG HÌNH ẢNH MỘT SỐ BƯỚC THỰC HIỆN |  |  |  |\n",
      "| Lưu ý: Các thao tác thực hiện theo các bước hướng dẫn bạn có thể truy cập trực tiếp vào trang chủ theo địa |  |  |  |\n",
      "| chỉ | https://vneid.gov.vn | bằng trình duyệt web có trên thiết bị di động hoặc máy tính của bạn (các trình duyệt web bạn đã cài đặt |  |\n",
      "| có thể là: chrome; cốc cốc; fiefox ; safari… ) và thực hiện các bước hướng dẫn trang chủ vủa VNeID. Bạn có thể sử dụng thiết bị |  |  |  |\n",
      "| di động thông minh đang sử dụng truy cập trực tiếp tới trang chủ của VNeID bằng cách click vào dòng chữ |  |  | https://vneid.gov.vn |\n",
      "| tại tin nhắn SMS được hệ thống VNeID gửi tới số điện thoại bạn đang sử dụng để truy cập tới trang chủ VNeID. |  |  |  |\n",
      "\n",
      "\n",
      "\n",
      "\n",
      "| Tuy nhiên trong thực tế quá trình bạn thực hiện các thao tác trên máy tính hoặc trên thiết bị di động thông minh màn hình trên thiết bị |\n",
      "| của bạn sẽ hiển thị các hình ảnh minh họa cụ thể sau: |\n",
      "\n",
      "\n",
      "\n",
      "\n",
      "| Truy cập ứng dụng App Store trên điện thoại thông minh hệ\n",
      "điều hành IOS (iphone, Ipad,Mac) có logo như hình minh họa | Truy cập ứng dụng CH Play (google play) trên điện thoại thông\n",
      "minh hệ điều hành Androi (Samsung,Oppo,Redmi,Galaxy….)\n",
      "có logo như hình minh họa |\n",
      "\n",
      "\n",
      "\n",
      "\n"
     ]
    }
   ],
   "source": [
    "print(len(tables))\n",
    "for table in tables:\n",
    "    print(table)\n",
    "    print(\"\\n\\n\")"
   ]
  },
  {
   "cell_type": "code",
   "execution_count": 4,
   "metadata": {},
   "outputs": [
    {
     "name": "stdout",
     "output_type": "stream",
     "text": [
      "0\n"
     ]
    }
   ],
   "source": [
    "for i in range(1):\n",
    "    if i == int(1/2):\n",
    "        print(i)"
   ]
  }
 ],
 "metadata": {
  "kernelspec": {
   "display_name": "myEnv",
   "language": "python",
   "name": "python3"
  },
  "language_info": {
   "codemirror_mode": {
    "name": "ipython",
    "version": 3
   },
   "file_extension": ".py",
   "mimetype": "text/x-python",
   "name": "python",
   "nbconvert_exporter": "python",
   "pygments_lexer": "ipython3",
   "version": "3.10.0"
  }
 },
 "nbformat": 4,
 "nbformat_minor": 2
}
